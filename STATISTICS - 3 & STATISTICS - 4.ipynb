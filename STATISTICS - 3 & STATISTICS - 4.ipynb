{
 "cells": [
  {
   "cell_type": "markdown",
   "metadata": {},
   "source": [
    "# TASK 1"
   ]
  },
  {
   "cell_type": "markdown",
   "metadata": {},
   "source": [
    "1. Blood glucose levels for obese patients have a mean of 100 with a standard deviation of 15. A\n",
    "researcher thinks that a diet high in raw cornstarch will have a positive effect on blood glucose\n",
    "levels. A sample of 36 patients who have tried the raw cornstarch diet have a mean glucose\n",
    "level of 108. Test the hypothesis that the raw cornstarch had an effect or not."
   ]
  },
  {
   "cell_type": "code",
   "execution_count": 73,
   "metadata": {},
   "outputs": [
    {
     "name": "stdout",
     "output_type": "stream",
     "text": [
      "The population mean is 100\n",
      "For H0,μ= 100\n",
      "For H1,μ > 100\n",
      "Let's assume significance level to be 5% or 0.05\n",
      "assume random choice probability to be z\n",
      "z=(x-μ)/σ\n",
      "The random choice probability is 3.2\n",
      "-----------------------------------------\n",
      "It is less than 0.05 so we will reject the Null hypothesis i.e. there is raw cornstarch effect.Also Setting significance level can also be done using z-value known as critical value. Find out the z- value of 5% probability and it is 1.65 (positive or negative, in any direction). Now we can compare calculated z-value with critical value to make a decision.\n"
     ]
    }
   ],
   "source": [
    "from math import sqrt\n",
    "print(\"The population mean is 100\")\n",
    "print(\"For H0,μ= 100\")\n",
    "μ= 100\n",
    "print(\"For H1,μ > 100\")\n",
    "μ > 100\n",
    "print(\"Let's assume significance level to be 5% or 0.05\")\n",
    "print(\"assume random choice probability to be z\")\n",
    "print(\"z=(x-μ)/σ\")\n",
    "σ=15/sqrt(36)\n",
    "z=(108-100) / (15/sqrt(36))\n",
    "print(\"The random choice probability is\",z)\n",
    "print(\"-----------------------------------------\")\n",
    "print(\"It is less than 0.05 so we will reject the Null hypothesis i.e. there is raw cornstarch effect.Also Setting significance level can also be done using z-value known as critical value. Find out the z- value of 5% probability and it is 1.65 (positive or negative, in any direction). Now we can compare calculated z-value with critical value to make a decision.\")"
   ]
  },
  {
   "cell_type": "markdown",
   "metadata": {},
   "source": [
    "2.In one state, 52% of the voters are Republicans, and 48% are Democrats. In a second state,\n",
    "47% of the voters are Republicans, and 53% are Democrats. Suppose a simple random sample\n",
    "of 100 voters are surveyed from each state.What is the probability that the survey will show a greater percentage of Republican voters in the second state than in the first state?"
   ]
  },
  {
   "cell_type": "code",
   "execution_count": 72,
   "metadata": {},
   "outputs": [
    {
     "name": "stdout",
     "output_type": "stream",
     "text": [
      "Let P1 = the proportion of Republican voters in the first state\n",
      "Let P2 = the proportion of Republican voters in the second state\n",
      "Let p1 = the proportion of Republican voters in the sample from the first state\n",
      "Let p2 = the proportion of Republican voters in the sample from the second state\n",
      "Let n1 = The number of voters sampled from the first state\n",
      "Let n2 = the number of voters sampled from the second state\n",
      "n1P1= 52.0\n",
      "n1(1 - P1) = 48.0\n",
      "n2P2 = 47.0\n",
      "n2(1 - P2) = 53.0\n",
      "The mean difference in sample proportions: E(p1 - p2) = P1 - P2 = 0.050000000000000044\n",
      "σd = sqrt{ [ P1(1 - P1) / n1 ] + [ P2(1 - P2) / n2 ] }=  0.07061869440877536\n",
      "Z-Score = z = (x - μ) / σd = -0.708215297450425\n",
      "---------------------------------------------------\n",
      "Using Stat Trek's,we find that the probability of a z-score being -0.7082 or less is 0.24.Therefore, the probability that the survey will show a greater percentage of Republican voters in the second state than in the first state is  0.24 \n"
     ]
    }
   ],
   "source": [
    "print(\"Let P1 = the proportion of Republican voters in the first state\")\n",
    "print(\"Let P2 = the proportion of Republican voters in the second state\")\n",
    "print(\"Let p1 = the proportion of Republican voters in the sample from the first state\")\n",
    "print(\"Let p2 = the proportion of Republican voters in the sample from the second state\")\n",
    "print(\"Let n1 = The number of voters sampled from the first state\")\n",
    "print(\"Let n2 = the number of voters sampled from the second state\")\n",
    "n1=100;n2=100\n",
    "print(\"n1P1=\",100 * 0.52);print(\"n1(1 - P1) =\", 100 * 0.48) ;print(\"n2P2 =\", 100 * 0.47);print(\"n2(1 - P2) =\",100 * 0.53)\n",
    "print(\"The mean difference in sample proportions: E(p1 - p2) = P1 - P2 =\",0.52 - 0.47)\n",
    "print(\"σd = sqrt{ [ P1(1 - P1) / n1 ] + [ P2(1 - P2) / n2 ] }= \",sqrt(((0.52*0.48)/100)+((0.47*0.53)/100)) )\n",
    "print(\"Z-Score = z = (x - μ) / σd =\",(0 - 0.05)/0.0706 )\n",
    "print(\"---------------------------------------------------\")\n",
    "print(\"Using Stat Trek's,we find that the probability of a z-score being -0.7082 or less is 0.24.Therefore, the probability that the survey will show a greater percentage of Republican voters in the second state than in the first state is  0.24 \")"
   ]
  },
  {
   "cell_type": "markdown",
   "metadata": {},
   "source": [
    "3.You take the SAT and score 1100. The mean score for the SAT is 1026 and the standard deviation is 209. How well did you score on the test compared to the average test taker?"
   ]
  },
  {
   "cell_type": "code",
   "execution_count": 80,
   "metadata": {},
   "outputs": [
    {
     "name": "stdout",
     "output_type": "stream",
     "text": [
      "Evaluating X-value into z-score, Here X value is the SAT score, x = 1100\n",
      "Mean value is μ = 1026\n",
      "Standard Deviation is σ = 209\n",
      "z=(x-μ)/σ\n",
      "z= 0.35406698564593303\n",
      "------------------------\n",
      "Therefore, In z-table for z-value in the z-table the percentage of test-takers scored below .354 is .1368 + .5000* = .6368 or 63.68%. The z-table shown has scores for the right of the mean. Therefore, we have to add .500 for all of the area left of the mean\n"
     ]
    }
   ],
   "source": [
    "print(\"Evaluating X-value into z-score, Here X value is the SAT score, x = 1100\")\n",
    "print(\"Mean value is μ = 1026\")\n",
    "print(\"Standard Deviation is σ = 209\")\n",
    "print(\"z=(x-μ)/σ\")\n",
    "print(\"z=\",(1100-1026)/209)\n",
    "print(\"------------------------\")\n",
    "print(\"Therefore, In z-table for z-value in the z-table the percentage of test-takers scored below .354 is .1368 + .5000* = .6368 or 63.68%. The z-table shown has scores for the right of the mean. Therefore, we have to add .500 for all of the area left of the mean\")"
   ]
  },
  {
   "cell_type": "markdown",
   "metadata": {},
   "source": [
    "# TASK2"
   ]
  },
  {
   "cell_type": "markdown",
   "metadata": {},
   "source": [
    "1.Is gender independent of education level? A random sample of 395 people were surveyed\n",
    "and each person was asked to report the highest education level they obtained. The data that\n",
    "resulted from the survey is summarized in the following table:\n",
    "High School Bachelors Masters Ph.d. Total\n",
    "Female 60 54 46 41 201\n",
    "Male 40 44 53 57 194\n",
    "Total 100 98 99 98 395\n",
    "Question: Are gender and education level dependent at 5% level of significance? In other\n",
    "words, given the data collected above, is there a relationship between the gender of an\n",
    "individual and the level of education that they have obtained?"
   ]
  },
  {
   "cell_type": "code",
   "execution_count": 115,
   "metadata": {},
   "outputs": [
    {
     "name": "stdout",
     "output_type": "stream",
     "text": [
      "Given table :  \n",
      "        HighScl  Bachelors Master Ph.d Total \n",
      " FEMALE 60 \t 54 \t 46 \t 41 \t 201 \n",
      " MALE   40 \t 44 \t 53 \t 57 \t 194\n",
      "---------------------------------------------------------------------------\n",
      "Table of expected counts: \n",
      "        HighSchool       Bachelors          Masters           Ph.d \n",
      " FEMALE 50.88607594936709 49.868354430379746 50.37721518987342 49.868354430379746 \n",
      " MALE   49.11392405063291 48.131645569620254 48.62278481012658 48.131645569620254\n",
      "----------------------------------------------------------------------------\n",
      "DF =  3\n",
      "P-value = 0.046\n",
      "Chi - Square contributions is :  8.006066246262538\n",
      "----------------------------------------------------------------------------\n",
      "The critical value of χ2 with 3 degree of freedom is 7.815. Since 8.006 > 7.815, therefore we reject the null hypothesis and conclude that the education level depends on gender at a 5% level of significance.\n"
     ]
    }
   ],
   "source": [
    "FHS=60;FB=54;FM=46;FPhd=41;FTotal=201;MHS=40;MB=44;MM=53;MPhd=57;MTotal=194\n",
    "print(\"Given table : \",\"\\n\",\"       HighScl  Bachelors Master Ph.d Total\",\"\\n\",\"FEMALE\",FHS,\"\\t\",FB,\"\\t\",FM,\"\\t\",FPhd,\"\\t\",FTotal,\"\\n\",\"MALE  \",MHS,\"\\t\",MB,\"\\t\",MM,\"\\t\",MPhd,\"\\t\",MTotal)\n",
    "print(\"---------------------------------------------------------------------------\")\n",
    "FemaleHighSchool=(100*201)/395\n",
    "FemaleBachelors=(98*201)/395\n",
    "FemaleMasters=(99*201)/395\n",
    "FemalePhd=(98*201)/395\n",
    "MaleHighSchool=(100*194)/395\n",
    "MaleBachelors=(98*194)/395\n",
    "MaleMasters=(99*194)/395\n",
    "MalePhd=(98*194)/395\n",
    "print(\"Table of expected counts:\",\"\\n\",\"       HighSchool       Bachelors          Masters           Ph.d\",\"\\n\",\"FEMALE\",FemaleHighSchool,FemaleBachelors,FemaleMasters,FemalePhd,\"\\n\",\"MALE  \",MaleHighSchool,MaleBachelors,MaleMasters,MalePhd)\n",
    "print(\"----------------------------------------------------------------------------\")\n",
    "DF=3;P_Value=0.046\n",
    "χ2=(((FHS-FemaleHighSchool)*(FHS-FemaleHighSchool)/(FemaleHighSchool))+((FB-FemaleBachelors)*(FB-FemaleBachelors)/(FemaleBachelors))+((FM-FemaleMasters)*(FM-FemaleMasters)/(FemaleMasters))+((FPhd-FemalePhd)*(FPhd-FemalePhd)/(FemalePhd))+((MHS-MaleHighSchool)*(MHS-MaleHighSchool)/(MaleHighSchool))+((MB-MaleBachelors)*(MB-MaleBachelors)/(MaleBachelors))+((MM-MaleMasters)*(MM-MaleMasters)/(MaleMasters))+((MPhd-MalePhd)*(MPhd-MalePhd)/(MalePhd)))\n",
    "print(\"DF = \", DF);print(\"P-value =\",P_Value)\n",
    "print(\"Chi - Square contributions is : \",χ2)\n",
    "print(\"----------------------------------------------------------------------------\")\n",
    "print(\"The critical value of χ2 with 3 degree of freedom is 7.815. Since 8.006 > 7.815, therefore we reject the null hypothesis and conclude that the education level depends on gender at a 5% level of significance.\")"
   ]
  },
  {
   "cell_type": "markdown",
   "metadata": {},
   "source": [
    "2.Using the following data, perform a oneway analysis of variance using α=.05. Write up the\n",
    "results in APA format.\n",
    "[Group1: 51, 45, 33, 45, 67]\n",
    "[Group2: 23, 43, 23, 43, 45]\n",
    "[Group3: 56, 76, 74, 87, 56]"
   ]
  },
  {
   "cell_type": "code",
   "execution_count": 66,
   "metadata": {},
   "outputs": [
    {
     "name": "stdout",
     "output_type": "stream",
     "text": [
      "Mean(Average Values): 48.2 35.4 69.8\n",
      "------------------------------------------------------------------------------------------\n",
      "Square Deviations: \n",
      " (7.839999999999984, 10.240000000000018, 231.04000000000008, 10.240000000000018, 353.4399999999999) \n",
      " (153.75999999999996, 57.76000000000002, 153.75999999999996, 57.76000000000002, 92.16000000000003) \n",
      " (190.4399999999999, 38.44000000000003, 17.640000000000025, 295.8400000000001, 190.4399999999999)\n",
      "Sum of Squared Deviations, SS: 612.8 515.2 732.8\n",
      "Variance of all Group 1 Var1 =  153.2\n",
      "Variance of all Group 2 Var2 =  128.79999999999998\n",
      "Variance of all Group 3 Var3 =  183.2\n",
      "MSerror Value(average within-group variance) =  155.06666666666666\n",
      "dferror =  12\n",
      "SSerror =  1860.8\n",
      "------------Intermediate steps to calculate Variance of sample means-------------\n",
      "Average Values: 51.13333333333333\n",
      "Sum of Squared Deviations of mean values, SS: 604.5866666666666\n",
      "Variance of mean values =  302.2933333333333\n",
      "MSbetween =  1511.4666666666665\n",
      "dfgroups =  2\n",
      "SSgroups =  3022.933333333333\n",
      "----------------------------------------------------------------------------------\n",
      "Fstatistics =  9.747205503009457\n",
      "Fcritical(2,12) =  3.89\n",
      "Decision : Reject H0\n",
      "Total SS of error and group 4883.733333333333\n",
      "Effect size(η2) =  0.61898001528885\n",
      "APA : F(2, 12)=9.75, p <0.05, η2=0.62\n"
     ]
    }
   ],
   "source": [
    "import statistics\n",
    "Group1=(51, 45, 33, 45, 67)\n",
    "Group2=(23, 43, 23, 43, 45)\n",
    "Group3=(56, 76, 74, 87, 56)\n",
    "Group1mean=mean(Group1)\n",
    "Group2mean=mean(Group2)\n",
    "Group3mean=mean(Group3)\n",
    "print(\"Mean(Average Values):\",Group1mean,Group2mean,Group3mean)\n",
    "print(\"------------------------------------------------------------------------------------------\")\n",
    "Group1d = ((51-Group1mean)*(51-Group1mean), (45-Group1mean)*(45-Group1mean), (33-Group1mean)*(33-Group1mean), (45-Group1mean)*(45-Group1mean),(67-Group1mean)*(67-Group1mean))\n",
    "Group2d = ((23-Group2mean)*(23-Group2mean), (43-Group2mean)*(43-Group2mean), (23-Group2mean)*(23-Group2mean), (43-Group2mean)*(43-Group2mean), (45-Group2mean)*(45-Group2mean))\n",
    "Group3d = ((56-Group3mean)*(56-Group3mean), (76-Group3mean)*(76-Group3mean), (74-Group3mean)*(74-Group3mean), (87-Group3mean)*(87-Group3mean), (56-Group3mean)*(56-Group3mean))\n",
    "print(\"Square Deviations:\",\"\\n\",Group1d,\"\\n\",Group2d,\"\\n\",Group3d)\n",
    "print(\"Sum of Squared Deviations, SS:\",sum(Group1d),sum(Group2d),sum(Group3d))\n",
    "#print(\"------------------------------------------------------------------------------------------\")\n",
    "print(\"Variance of all Group 1 Var1 = \",variance(Group1))\n",
    "print(\"Variance of all Group 2 Var2 = \",variance(Group2))\n",
    "print(\"Variance of all Group 3 Var3 = \",variance(Group3))\n",
    "averageVariance=(variance(Group1)+variance(Group2)+variance(Group3))/3\n",
    "print(\"MSerror Value(average within-group variance) = \",averageVariance)\n",
    "dferror =15 - 3\n",
    "print(\"dferror = \",dferror)\n",
    "SSerror=averageVariance*dferror\n",
    "print(\"SSerror = \",SSerror)\n",
    "print(\"------------Intermediate steps to calculate Variance of sample means-------------\")\n",
    "meanValues = (Group1mean,Group2mean,Group3mean)\n",
    "avg=mean(meanValues)\n",
    "print(\"Average Values:\",avg)\n",
    "Squareddeviations = ((Group1mean-avg)*(Group1mean-avg),(Group2mean-avg)*(Group2mean-avg),(Group3mean-avg)*(Group3mean-avg))\n",
    "print(\"Sum of Squared Deviations of mean values, SS:\",sum(Squareddeviations))\n",
    "print(\"Variance of mean values = \",variance(meanValues))\n",
    "MSbetween=variance(meanValues)*5\n",
    "print(\"MSbetween = \",MSbetween)\n",
    "dfgroups= 3 - 1\n",
    "print(\"dfgroups = \",dfgroups)\n",
    "SSgroups=MSbetween*dfgroups\n",
    "print(\"SSgroups = \",SSgroups)\n",
    "print(\"----------------------------------------------------------------------------------\")\n",
    "Fstatistics=MSbetween/averageVariance\n",
    "Fcritical=3.89\n",
    "print(\"Fstatistics = \",Fstatistics)\n",
    "print(\"Fcritical(2,12) = \",Fcritical)\n",
    "print(\"Decision : Reject H0\")\n",
    "SS=SSerror+SSgroups\n",
    "print(\"Total SS of error and group\",SS)\n",
    "print(\"Effect size(η2) = \",SSgroups/SS)\n",
    "print(\"APA : F(2, 12)=9.75, p <0.05, η2=0.62\")"
   ]
  },
  {
   "cell_type": "markdown",
   "metadata": {},
   "source": [
    "3.Calculate F Test for given 10, 20, 30, 40, 50 and 5,10,15, 20, 25."
   ]
  },
  {
   "cell_type": "code",
   "execution_count": 2,
   "metadata": {},
   "outputs": [
    {
     "name": "stdout",
     "output_type": "stream",
     "text": [
      "For first set, 10,20,30,40,50\n",
      "Means(xm)=  30\n",
      "Variance1= 250.0\n",
      "------------------------------\n",
      "For second set, 5, 10,15,20,25\n",
      "Means(xm)=  15\n",
      "Variance2= 62.5\n",
      "-------------------------------\n",
      "To calculate F-Test, F-Test =  4.0\n"
     ]
    }
   ],
   "source": [
    "from statistics import stdev,mean\n",
    "print(\"For first set, 10,20,30,40,50\")\n",
    "a = (10,20,30,40,50)\n",
    "xm = mean(a)\n",
    "print(\"Means(xm)= \",xm)\n",
    "SDm=stdev(a)\n",
    "Variance1=SDm*SDm\n",
    "print(\"Variance1=\" ,Variance1)\n",
    "print(\"------------------------------\")\n",
    "print(\"For second set, 5, 10,15,20,25\")\n",
    "b=(5, 10,15,20,25)\n",
    "xm = mean(b)\n",
    "print(\"Means(xm)= \",xm)\n",
    "SDm=stdev(b)\n",
    "Variance2=SDm*SDm\n",
    "print(\"Variance2=\" ,Variance2)\n",
    "print(\"-------------------------------\")\n",
    "print(\"To calculate F-Test, F-Test = \", Variance1/Variance2)"
   ]
  }
 ],
 "metadata": {
  "kernelspec": {
   "display_name": "Python 3",
   "language": "python",
   "name": "python3"
  },
  "language_info": {
   "codemirror_mode": {
    "name": "ipython",
    "version": 3
   },
   "file_extension": ".py",
   "mimetype": "text/x-python",
   "name": "python",
   "nbconvert_exporter": "python",
   "pygments_lexer": "ipython3",
   "version": "3.6.4"
  }
 },
 "nbformat": 4,
 "nbformat_minor": 2
}
